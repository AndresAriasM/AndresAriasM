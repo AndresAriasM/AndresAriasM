{
  "nbformat": 4,
  "nbformat_minor": 0,
  "metadata": {
    "colab": {
      "name": "Imputación_De_Valores_Ausentes.ipynb",
      "provenance": [],
      "authorship_tag": "ABX9TyNlFqdFxRt7c3qzXh9QE1HU",
      "include_colab_link": true
    },
    "kernelspec": {
      "name": "python3",
      "display_name": "Python 3"
    },
    "language_info": {
      "name": "python"
    }
  },
  "cells": [
    {
      "cell_type": "markdown",
      "metadata": {
        "id": "view-in-github",
        "colab_type": "text"
      },
      "source": [
        "<a href=\"https://colab.research.google.com/github/AndresAriasM/AndresAriasM/blob/main/Imputaci%C3%B3n_De_Valores_Ausentes.ipynb\" target=\"_parent\"><img src=\"https://colab.research.google.com/assets/colab-badge.svg\" alt=\"Open In Colab\"/></a>"
      ]
    },
    {
      "cell_type": "markdown",
      "metadata": {
        "id": "EVXog1Q-cXGN"
      },
      "source": [
        "#IMPUTACIÓN DE VALORES AUSENTES\n",
        "\n",
        "#####INTEGRANTES:\n",
        "- Mariana Gómez\n",
        "- Luisa Flórez\n",
        "- Camilo Velásquez\n",
        "- Andrés Arias"
      ]
    },
    {
      "cell_type": "markdown",
      "metadata": {
        "id": "7_ue7hF2dU3Y"
      },
      "source": [
        "#Archivo asignado: Datos para Trabajo Imputación Valores Ausentes 1 \n",
        "### Nota: Para el ejercicio cambiamos el nombre del archivo por Datos.xlsx"
      ]
    },
    {
      "cell_type": "code",
      "metadata": {
        "id": "A289m9BZdrtp"
      },
      "source": [
        "import pandas as pd\n",
        "import numpy as np\n",
        "import matplotlib.pyplot as plt\n",
        "from scipy import stats\n",
        "from pandas.api.types import is_string_dtype\n",
        "from pandas.api.types import is_numeric_dtype"
      ],
      "execution_count": 130,
      "outputs": []
    },
    {
      "cell_type": "markdown",
      "metadata": {
        "id": "2kjJcGYfeH_M"
      },
      "source": [
        "###Cargar archivo Excel a Python y visualizar todas sus columnas"
      ]
    },
    {
      "cell_type": "code",
      "metadata": {
        "id": "IDKnXpoXeMNo"
      },
      "source": [
        "df_excel = pd.read_excel(\"Datos.xlsx\", sheet_name= 'censUS')\n",
        "pd.set_option('display.max_columns', 20)"
      ],
      "execution_count": 131,
      "outputs": []
    },
    {
      "cell_type": "markdown",
      "metadata": {
        "id": "uD-GBfrhefmh"
      },
      "source": [
        "### Agrupar las columnas asigandas para imputación "
      ]
    },
    {
      "cell_type": "code",
      "metadata": {
        "id": "RBKEzVUceigO"
      },
      "source": [
        "imputación = df_excel[['Edad', 'Años_Estudio', 'Salario','Estado_Civil', 'Papel_Hogar']].copy() \n",
        "imputación.head(2)\n",
        "imputación.isnull().sum() #Total de nulos por columna\n",
        "imputación.isnull().sum()/len(imputación) #Porcentaje de nulos"
      ],
      "execution_count": null,
      "outputs": []
    },
    {
      "cell_type": "markdown",
      "metadata": {
        "id": "1PMAD4qFe8aZ"
      },
      "source": [
        "###Calculo de medidas para diagrama de caja y bigote(outliers)"
      ]
    },
    {
      "cell_type": "markdown",
      "metadata": {
        "id": "DMCJcxY2fB2f"
      },
      "source": [
        "####Se inicia con la primera de las columnas 'Edad'"
      ]
    },
    {
      "cell_type": "code",
      "metadata": {
        "id": "chSy5g4BOwcH"
      },
      "source": [
        "#Detección de outliers Edad:\n",
        "\n",
        "if is_numeric_dtype(imputación['Edad']):\n",
        "  datos = imputación['Edad']\n",
        "  df = pd.DataFrame(datos)\n",
        "  grafica = df.boxplot()\n",
        "\n",
        "else:\n",
        "  print(\"No es posible calcular estas medidas para datos categóricos\")"
      ],
      "execution_count": null,
      "outputs": []
    },
    {
      "cell_type": "markdown",
      "metadata": {
        "id": "Gw33u4RqlxiM"
      },
      "source": [
        "####Datos del diagrama de caja y bigote"
      ]
    },
    {
      "cell_type": "code",
      "metadata": {
        "id": "El3-aFkOl3_T"
      },
      "source": [
        "if is_numeric_dtype(imputación['Edad']):\n",
        "  Q1 = imputación['Edad'].quantile(0.25)\n",
        "  Q3 = imputación['Edad'].quantile(0.75)\n",
        "  IQR = Q3 - Q1\n",
        "  Mediana = imputación['Edad'].median()\n",
        "  Minimo = imputación['Edad'].min()\n",
        "  Maximo = imputación['Edad'].max()\n",
        "  Bigote_Inferior_Edad = (Q1 - 1.5 * IQR)\n",
        "  Bigote_Superior_Edad = (Q3 + 1.5 * IQR)\n",
        "\n",
        "else: \n",
        "  print(\"No es posible calcular estas medidas para datos categóricos\")"
      ],
      "execution_count": 132,
      "outputs": []
    },
    {
      "cell_type": "markdown",
      "metadata": {
        "id": "1SUaJoXrSfp-"
      },
      "source": [
        "####Identificar la presencia de outliers (EDAD)"
      ]
    },
    {
      "cell_type": "code",
      "metadata": {
        "id": "1_5w1wdNSmA1"
      },
      "source": [
        "Ubi_Outliers_Edad = (imputación['Edad'] < Bigote_Inferior_Edad) | (imputación['Edad'] > Bigote_Superior_Edad)\n",
        "print(Ubi_Outliers_Edad) "
      ],
      "execution_count": null,
      "outputs": []
    },
    {
      "cell_type": "markdown",
      "metadata": {
        "id": "qVTXaV6fS-3F"
      },
      "source": [
        "####Imputación de 'Edad' con la medida mas precisa\n",
        "\n",
        "\n",
        "\n"
      ]
    },
    {
      "cell_type": "code",
      "metadata": {
        "id": "6wvsdhC1TGOa"
      },
      "source": [
        "if imputación['Edad'].isnull().sum()/len(imputación) < 0.1 and (Ubi_Outliers_Edad is False) and is_numeric_dtype(imputación['Edad']):\n",
        "  media_edad = imputación['Edad'].mean()\n",
        "  print(\"La media de la columna 'Edad' es \", media_edad)\n",
        "  imputación['Edad'].fillna(media_edad,inplace=True) #Imputación media\n",
        "  print(\"Se ha empleado la media para la imputación de los datos faltantes puesto que se cumplen las condiciones:\")\n",
        "  print(\"- No hay presencia de Outliers\")\n",
        "  print(\"- No se trata de una variable categórica\")\n",
        "  print(\"- Los datos faltantes son inferiores al 10% del total de los datos\")\n",
        "  print(\"Debe tenerse en cuenta que la imputación con la media afecta la distribución\")\n",
        "\n",
        "elif imputación['Edad'].isnull().sum()/len(imputación) < 0.1 and is_numeric_dtype(imputación['Edad']):\n",
        "  mediana_edad = imputación['Edad'].median()\n",
        "  print(\"La mediana de la columna 'Edad' es \", mediana_edad)\n",
        "  imputación['Edad'].fillna(mediana_edad, inplace=True) #Imputación mediana\n",
        "  print(\"Se ha empleado la mediana para la imputación de los datos faltantes puesto que se cumplen las condiciones:\")\n",
        "  print(\"- El resultado ofrece mayor robustez pese a la presencia de outliers dado que esta medida no se ve afectada por valores extremos\")\n",
        "  print(\"- No se trata de una variable categórica\")\n",
        "  print(\"- Los datos faltantes son inferiores al 10% del total de los datos\")\n",
        "  print(\"Debe tenerse en cuenta que la imputación con la mediana afecta la distribución\")\n",
        "\n",
        "elif imputación['Edad'].isnull().sum()/len(imputación) < 0.1 and is_string_dtype(imputación['Edad']):\n",
        "  moda_edad = imputación['Edad'].mode()\n",
        "  print(\"La moda de la columna 'Edad' es \", moda_edad)\n",
        "  imputación['Edad'].fillna(moda_edad, inplace=True) #Imputación moda\n",
        "  print(\"En este caso la moda no es tenida en cuenta para datos númericos puesto que la mediana es una medida mas fiable\")\n",
        "  print(\"Se ha empleado la moda para la imputación de los datos faltantes puesto que se cumplen las condiciones:\")\n",
        "  print(\"- Se trata de una variable categórica\")\n",
        "  print(\"- Los datos faltantes son inferiores al 10% del total de los datos\")\n",
        "  print(\"Debe tenerse en cuenta que la imputación con la mediana afecta la distribución\")\n",
        "\n",
        "else:\n",
        "  print(\"No es posible usar uno de los métodos de imputación disponibles, tanto la media, la mediana y la moda no son adecuadas\")\n",
        "  print(\"para esta labor en este archivo de datos en concreto. Podría emplearse Hot Deck o regresión\")"
      ],
      "execution_count": null,
      "outputs": []
    },
    {
      "cell_type": "markdown",
      "metadata": {
        "id": "2KxTPFPYVuLS"
      },
      "source": [
        "###Se repite el proceso con las demas columnas cambiando el nombre de las variables"
      ]
    },
    {
      "cell_type": "markdown",
      "metadata": {
        "id": "38WOkDwlV-RH"
      },
      "source": [
        "####Columna 'Años_Estudio'"
      ]
    },
    {
      "cell_type": "markdown",
      "metadata": {
        "id": "48Htd8GsWUwM"
      },
      "source": [
        "####Detección de outliers Años_Estudio"
      ]
    },
    {
      "cell_type": "code",
      "metadata": {
        "id": "3PsXgFB1WWqR"
      },
      "source": [
        "if is_numeric_dtype(imputación['Años_Estudio']):\n",
        " datos = imputación['Años_Estudio']\n",
        " df = pd.DataFrame(datos)\n",
        " grafica = df.boxplot()\n",
        " Q1_Años_Estudio = imputación['Años_Estudio'].quantile(0.25)  \n",
        " Q3_Años_Estudio = imputación['Años_Estudio'].quantile(0.75)\n",
        " IQR_Años_Estudio = Q3_Años_Estudio - Q1_Años_Estudio\n",
        " Mediana_Años_Estudio = imputación['Años_Estudio'].median()\n",
        " Minimo_Años_Estudio = imputación['Años_Estudio'].min()\n",
        " Maximo_Años_Estudio = imputación['Años_Estudio'].max()\n",
        " Bigote_Inferior_Años_Estudio = (Q1_Años_Estudio - 1.5 * IQR_Años_Estudio)\n",
        " Bigote_Superior_Años_Estudio = (Q3_Años_Estudio + 1.5 * IQR_Años_Estudio)\n",
        "\n",
        " Ubi_Outliers_Años_Estudio = (imputación['Años_Estudio'] < Bigote_Inferior_Años_Estudio) | (imputación['Años_Estudio'] > Bigote_Superior_Años_Estudio)\n",
        " print(\"OUTLIERS:\")\n",
        " print(Ubi_Outliers_Años_Estudio)\n",
        " print(\"\")\n",
        " \n",
        "else:\n",
        "   print(\"No es posible calcular estas medidas para datos categóricos\")\n"
      ],
      "execution_count": null,
      "outputs": []
    },
    {
      "cell_type": "markdown",
      "metadata": {
        "id": "VKclsvVfXVaE"
      },
      "source": [
        "####Imputación Años_Estudio"
      ]
    },
    {
      "cell_type": "code",
      "metadata": {
        "id": "a1C8pYoNXZcO"
      },
      "source": [
        "if imputación['Años_Estudio'].isnull().sum()/len(imputación) < 0.1 and (Ubi_Outliers_Años_Estudio is False) and is_numeric_dtype(imputación['Años_Estudio']):\n",
        "  media_Años_Estudio = imputación['Años_Estudio'].mean()\n",
        "  print(\"La media de la columna 'Años_Estudio' es \", media_Años_Estudio)\n",
        "  imputación['Años_Estudio'].fillna(media_Años_Estudio, inplace=True) #Imputación media\n",
        "  print(\"Se ha empleado la media para la imputación de los datos faltantes puesto que se cumplen las condiciones:\")\n",
        "  print(\"- No hay presencia de Outliers\")\n",
        "  print(\"- No se trata de una variable categórica\")\n",
        "  print(\"- Los datos faltantes son inferiores al 10% del total de los datos\")\n",
        "  print(\"Debe tenerse en cuenta que la imputación con la media afecta la distribución\")\n",
        "\n",
        "elif imputación['Años_Estudio'].isnull().sum()/len(imputación) < 0.1 and is_numeric_dtype(imputación['Años_Estudio']):\n",
        "  mediana_Años_Estudio = imputación['Años_Estudio'].median()\n",
        "  print(\"La mediana de la columna 'Años_Estudio' es \", mediana_Años_Estudio)\n",
        "  imputación['Años_Estudio'].fillna(mediana_Años_Estudio, inplace=True) #Imputación mediana\n",
        "  print(\"Se ha empleado la mediana para la imputación de los datos faltantes puesto que se cumplen las condiciones:\")\n",
        "  print(\"- El resultado ofrece mayor robustez pese a la presencia de outliers dado que esta medida no se ve afectada por valores extremos\")\n",
        "  print(\"- No se trata de una variable categórica\")\n",
        "  print(\"- Los datos faltantes son inferiores al 10% del total de los datos\")\n",
        "  print(\"Debe tenerse en cuenta que la imputación con la mediana afecta la distribución\")\n",
        "\n",
        "elif imputación['Años_Estudio'].isnull().sum()/len(imputación) < 0.1 and is_string_dtype(imputación['Años_Estudio']):\n",
        "  moda_Años_Estudio = imputación['Años_Estudio'].mode()\n",
        "  print(\"La moda de la columna 'Años_Estudio' es \", moda_Años_Estudio)\n",
        "  imputación['Años_Estudio'].fillna(moda_Años_Estudio, inplace=True) #Imputación moda\n",
        "  print(\"En este caso la moda no es tenida en cuenta para datos númericos puesto que la mediana es una medida mas fiable\")\n",
        "  print(\"Se ha empleado la moda para la imputación de los datos faltantes puesto que se cumplen las condiciones:\")\n",
        "  print(\"- Se trata de una variable categórica\")\n",
        "  print(\"- Los datos faltantes son inferiores al 10% del total de los datos\")\n",
        "  print(\"Debe tenerse en cuenta que la imputación con la mediana afecta la distribución\")\n",
        "\n",
        "else:\n",
        "  print(\"No es posible usar uno de los métodos de imputación disponibles, tanto la media, la mediana y la moda no son adecuadas\")\n",
        "  print(\"para esta labor en este archivo de datos en concreto. Podría emplearse Hot Deck o regresión\")\n",
        "\n"
      ],
      "execution_count": null,
      "outputs": []
    },
    {
      "cell_type": "markdown",
      "metadata": {
        "id": "pnk3c_iHehbf"
      },
      "source": [
        "#### Columna 'Salario'"
      ]
    },
    {
      "cell_type": "markdown",
      "metadata": {
        "id": "fUlaPvT2ghaf"
      },
      "source": [
        "####Detección outliers"
      ]
    },
    {
      "cell_type": "code",
      "metadata": {
        "id": "Y0QoQS7UeeUA"
      },
      "source": [
        "if is_numeric_dtype(imputación['Salario']):\n",
        "  datos = imputación['Salario']\n",
        "  df = pd.DataFrame(datos)\n",
        "  grafica = df.boxplot()\n",
        "  Q1_Salario = imputación['Salario'].quantile(0.25)\n",
        "  Q3_Salario = imputación['Salario'].quantile(0.75)\n",
        "  IQR_Salario = Q3_Salario - Q1_Salario\n",
        "  Mediana_Salario = imputación['Salario'].median()\n",
        "  Minimo_Salario = imputación['Salario'].min()\n",
        "  Maximo_Salario = imputación['Salario'].max()\n",
        "  Bigote_Inferior_Salario = (Q1_Salario - 1.5 * IQR_Salario)\n",
        "  Bigote_Superior_Salario = (Q3_Salario + 1.5 * IQR_Salario)\n",
        "  \n",
        "  Ubi_Outliers_Salario = (imputación['Salario'] < Bigote_Inferior_Salario) | (imputación['Salario'] > Bigote_Superior_Salario)\n",
        "  print(\"OUTLIERS:\")\n",
        "  print(Ubi_Outliers_Salario)\n",
        "  print(\"\")\n",
        "\n",
        "else:\n",
        "  print(\"No es posible usar uno de los métodos de imputación disponibles, tanto la media, la mediana y la moda no son adecuadas\")\n",
        "  print(\"para esta labor en este archivo de datos en concreto. Podría emplearse Hot Deck o regresión\")\n"
      ],
      "execution_count": null,
      "outputs": []
    },
    {
      "cell_type": "markdown",
      "metadata": {
        "id": "o35ViztMftKI"
      },
      "source": [
        "####Imputación Salario"
      ]
    },
    {
      "cell_type": "code",
      "metadata": {
        "id": "2gpFWhPhfwCv"
      },
      "source": [
        "if imputación['Salario'].isnull().sum()/len(imputación) < 0.1 and (Ubi_Outliers_Salario is False) and is_numeric_dtype(imputación['Salario']):\n",
        "  media_Salario = imputación['Salario'].mean()\n",
        "  print(\"La media de la columna 'Salario' es \", media_Salario)\n",
        "  imputación['Salario'].fillna(media_Salario, inplace=True) #Imputación media\n",
        "  print(\"Se ha empleado la media para la imputación de los datos faltantes puesto que se cumplen las condiciones:\")\n",
        "  print(\"- No hay presencia de Outliers\")\n",
        "  print(\"- No se trata de una variable categórica\")\n",
        "  print(\"- Los datos faltantes son inferiores al 10% del total de los datos\")\n",
        "  print(\"Debe tenerse en cuenta que la imputación con la media afecta la distribución\")\n",
        "\n",
        "elif imputación['Salario'].isnull().sum()/len(imputación) < 0.1 and is_numeric_dtype(imputación['Salario']):\n",
        "  mediana_Salario = imputación['Salario'].median()\n",
        "  print(\"La mediana de la columna 'Salario' es \", mediana_Salario)\n",
        "  imputación['Salario'].fillna(mediana_Salario, inplace=True) #Imputación mediana\n",
        "  print(\"Se ha empleado la mediana para la imputación de los datos faltantes puesto que se cumplen las condiciones:\")\n",
        "  print(\"- El resultado ofrece mayor robustez pese a la presencia de outliers dado que esta medida no se ve afectada por valores extremos\")\n",
        "  print(\"- No se trata de una variable categórica\")\n",
        "  print(\"- Los datos faltantes son inferiores al 10% del total de los datos\")\n",
        "  print(\"Debe tenerse en cuenta que la imputación con la mediana afecta la distribución\")\n",
        "\n",
        "elif imputación['Salario'].isnull().sum()/len(imputación) < 0.1 and is_string_dtype(imputación['Salario']):\n",
        "  moda_Salario= imputación['Salario'].mode()\n",
        "  print(\"La moda de la columna 'Salario' es \", moda_Salario)\n",
        "  imputación['Salario'].fillna(moda_Salario, inplace=True) #Imputación moda\n",
        "  print(\"En este caso la moda no es tenida en cuenta para datos númericos puesto que la mediana es una medida mas fiable\")\n",
        "  print(\"Se ha empleado la moda para la imputación de los datos faltantes puesto que se cumplen las condiciones:\")\n",
        "  print(\"- Se trata de una variable categórica\")\n",
        "  print(\"- Los datos faltantes son inferiores al 10% del total de los datos\")\n",
        "  print(\"Debe tenerse en cuenta que la imputación con la mediana afecta la distribución\")\n",
        "\n",
        "else:\n",
        "  print(\"No es posible usar uno de los métodos de imputación disponibles, tanto la media, la mediana y la moda no son adecuadas\")\n",
        "  print(\"para esta labor en este archivo de datos en concreto. Podría emplearse Hot Deck o regresión\")\n",
        "\n"
      ],
      "execution_count": null,
      "outputs": []
    },
    {
      "cell_type": "markdown",
      "metadata": {
        "id": "OVibYIydgZV9"
      },
      "source": [
        "####Columna 'Estado_Civil'"
      ]
    },
    {
      "cell_type": "markdown",
      "metadata": {
        "id": "w8OqYnKhgo2S"
      },
      "source": [
        "####Detección outliers"
      ]
    },
    {
      "cell_type": "code",
      "metadata": {
        "id": "NBjQBFhNge_9"
      },
      "source": [
        "if is_numeric_dtype(imputación['Estado_Civil']):\n",
        " datos = imputación['Estado_Civil']\n",
        " df = pd.DataFrame(datos)\n",
        " grafica = df.boxplot()\n",
        " Q1_Estado_Civil = imputación['Estado_Civil'].quantile(0.25)\n",
        " Q3_Estado_Civil = imputación['Estado_Civil'].quantile(0.75)\n",
        " IQR_Estado_Civil = Q3_Estado_Civil - Q1_Estado_Civil\n",
        " Mediana_Estado_Civil = imputación['Estado_Civil'].median()\n",
        " Minimo_Estado_Civil = imputación['Estado_Civil'].min()\n",
        " Maximo_Estado_Civil = imputación['Estado_Civil'].max()\n",
        " Bigote_Inferior_Estado_Civil = (Q1_Estado_Civil - 1.5 * IQR_Estado_Civil)\n",
        " Bigote_Superior_Estado_Civil = (Q3_Estado_Civil + 1.5 * IQR_Estado_Civil)\n",
        "\n",
        " Ubi_Outliers_Estado_Civil = (imputación['Estado_Civil'] < Bigote_Inferior_Estado_Civil) | (imputación['Estado_Civil'] > Bigote_Superior_Estado_Civil)\n",
        " print(\"OUTLIERS:\")\n",
        " print(Ubi_Outliers_Estado_Civil)\n",
        " print(\"\")\n",
        "\n",
        "else:\n",
        "  print(\"No es posible usar uno de los métodos de imputación disponibles, tanto la media, la mediana y la moda no son adecuadas\")\n",
        "  print(\"para esta labor en este archivo de datos en concreto. Podría emplearse Hot Deck o regresión.\")\n"
      ],
      "execution_count": null,
      "outputs": []
    },
    {
      "cell_type": "markdown",
      "metadata": {
        "id": "xqtfKeGkigje"
      },
      "source": [
        "#### Imputación Estado_Civil"
      ]
    },
    {
      "cell_type": "code",
      "metadata": {
        "id": "UaGk0T3pipZ3"
      },
      "source": [
        "if imputación['Estado_Civil'].isnull().sum()/len(imputación) < 0.1 and is_numeric_dtype(imputación['Estado_Civil']):\n",
        "  media_Estado_Civil = imputación['Estado_Civil'].mean()\n",
        "  print(\"La media de la columna 'Estado_Civil' es \", media_Estado_Civil)\n",
        "  imputación['Estado_Civil'].fillna(media_Estado_Civil, inplace=True) #Imputación media\n",
        "  print(\"Se ha empleado la media para la imputación de los datos faltantes puesto que se cumplen las condiciones:\")\n",
        "  print(\"- No hay presencia de Outliers\")\n",
        "  print(\"- No se trata de una variable categórica\")\n",
        "  print(\"- Los datos faltantes son inferiores al 10% del total de los datos\")\n",
        "  print(\"Debe tenerse en cuenta que la imputación con la media afecta la distribución\")\n",
        "\n",
        "elif imputación['Estado_Civil'].isnull().sum()/len(imputación) < 0.1 and is_numeric_dtype(imputación['Estado_Civil']):\n",
        "  mediana_Estado_Civil = imputación['Estado_Civil'].median()\n",
        "  print(\"La mediana de la columna 'Estado_Civil' es \", mediana_Estado_Civil)\n",
        "  imputación['Estado_Civil'].fillna(mediana_Estado_Civil, inplace=True) #Imputación mediana\n",
        "  print(\"Se ha empleado la mediana para la imputación de los datos faltantes puesto que se cumplen las condiciones:\")\n",
        "  print(\"- El resultado ofrece mayor robustez pese a la presencia de outliers dado que esta medida no se ve afectada por valores extremos\")\n",
        "  print(\"- No se trata de una variable categórica\")\n",
        "  print(\"- Los datos faltantes son inferiores al 10% del total de los datos\")\n",
        "  print(\"Debe tenerse en cuenta que la imputación con la mediana afecta la distribución\")\n",
        "\n",
        "elif imputación['Estado_Civil'].isnull().sum()/len(imputación) < 0.1 and is_string_dtype(imputación['Estado_Civil']):\n",
        "  moda_Estado_Civil = imputación['Estado_Civil'].mode()\n",
        "  print(\"La moda de la columna 'Estado_Civil' es \", moda_Estado_Civil)\n",
        "  imputación['Estado_Civil'].fillna(moda_Estado_Civil, inplace=True) #Imputación moda\n",
        "  print(\"En este caso la moda no es tenida en cuenta para datos númericos puesto que la mediana es una medida mas fiable\")\n",
        "  print(\"\")\n",
        "  print(\"Se ha empleado la moda para la imputación de los datos faltantes puesto que se cumplen las condiciones:\")\n",
        "  print(\"- Se trata de una variable categórica\")\n",
        "  print(\"- Los datos faltantes son inferiores al 10% del total de los datos\")\n",
        "  print(\"Debe tenerse en cuenta que la imputación con la mediana afecta la distribución\")\n",
        "\n",
        "else:\n",
        "  print(\"No es posible usar uno de los métodos de imputación disponibles, tanto la media, la mediana y la moda no son adecuadas\")\n",
        "  print(\"para esta labor en este archivo de datos en concreto. Podría emplearse Hot Deck o regresión\")"
      ],
      "execution_count": null,
      "outputs": []
    },
    {
      "cell_type": "markdown",
      "metadata": {
        "id": "R4Tg0a9LmM9Z"
      },
      "source": [
        "#### Columna 'Papel_Hogar'"
      ]
    },
    {
      "cell_type": "markdown",
      "metadata": {
        "id": "TwKi9l5Amci8"
      },
      "source": [
        "####Detección de outliers Papel_Hogar"
      ]
    },
    {
      "cell_type": "code",
      "metadata": {
        "id": "nPDo54OymaMN"
      },
      "source": [
        "if is_numeric_dtype(imputación['Papel_Hogar']):\n",
        "  datos = imputación['Papel_Hogar']\n",
        "  df = pd.DataFrame(datos)\n",
        "  grafica = df.boxplot()\n",
        "  Q1_Papel_Hogar = imputación['Papel_Hogar'].quantile(0.25)\n",
        "  Q3_Papel_Hogar = imputación['Papel_Hogar'].quantile(0.75)\n",
        "  IQR_Papel_Hogar = Q3_Papel_Hogar - Q1_Papel_Hogar\n",
        "  Mediana_Papel_Hogar = imputación['Papel_Hogar'].median()\n",
        "  Minimo_Papel_Hogar = imputación['Papel_Hogar'].min()\n",
        "  Maximo_Papel_Hogar = imputación['Papel_Hogar'].max()\n",
        "  Bigote_Inferior_Papel_Hogar = (Q1_Papel_Hogar - 1.5 * IQR_Papel_Hogar)\n",
        "  Bigote_Superior_Papel_Hogar = (Q3_Papel_Hogar + 1.5 * IQR_Papel_Hogar)\n",
        "\n",
        "  Ubi_Outliers_Papel_Hogar = (imputación['Papel_Hogar'] < Bigote_Inferior_Papel_Hogar) | (imputación['Papel_Hogar'] > Bigote_Superior_Papel_Hogar)\n",
        "  print(\"OUTLIERS:\")\n",
        "  print(Ubi_Outliers_Papel_Hogar)\n",
        "  print(\"\")\n",
        "\n",
        "else:\n",
        "  print(\"No es posible usar uno de los métodos de imputación disponibles, tanto la media, la mediana y la moda no son adecuadas\")\n",
        "  print(\"para esta labor en este archivo de datos en concreto. Podría emplearse Hot Deck o regresión.\")\n"
      ],
      "execution_count": null,
      "outputs": []
    },
    {
      "cell_type": "markdown",
      "metadata": {
        "id": "X4wTpSvtoH6u"
      },
      "source": [
        "#### Imputación Papel_Hogar"
      ]
    },
    {
      "cell_type": "code",
      "metadata": {
        "colab": {
          "base_uri": "https://localhost:8080/"
        },
        "id": "5EIlj84voE8j",
        "outputId": "14122022-8865-4ee7-eae5-260cc2000c20"
      },
      "source": [
        "if imputación['Papel_Hogar'].isnull().sum()/len(imputación) < 0.1 and (Ubi_Outliers_Papel_Hogar is False) and is_numeric_dtype(imputación['Papel_Hogar']):\n",
        "  media_Papel_Hogar = imputación['Papel_Hogar'].mean()\n",
        "  print(\"La media de la columna 'Papel_Hogar' es \", media_Papel_Hogar)\n",
        "  imputación['Papel_Hogar'].fillna(media_Papel_Hogar, inplace=True) #Imputación media\n",
        "  print(\"Se ha empleado la media para la imputación de los datos faltantes puesto que se cumplen las condiciones:\")\n",
        "  print(\"- No hay presencia de Outliers\")\n",
        "  print(\"- No se trata de una variable categórica\")\n",
        "  print(\"- Los datos faltantes son inferiores al 10% del total de los datos\")\n",
        "  print(\"Debe tenerse en cuenta que la imputación con la media afecta la distribución\")\n",
        "\n",
        "elif imputación['Papel_Hogar'].isnull().sum()/len(imputación) < 0.1 and is_numeric_dtype(imputación['Papel_Hogar']):\n",
        "  mediana_Papel_Hogar = imputación['Papel_Hogar'].median()\n",
        "  print(\"La mediana de la columna 'Papel_Hogar' es \", mediana_Papel_Hogar)\n",
        "  imputación['Papel_Hogar'].fillna(mediana_Papel_Hogar, inplace=True) #Imputación mediana\n",
        "  print(\"Se ha empleado la mediana para la imputación de los datos faltantes puesto que se cumplen las condiciones:\")\n",
        "  print(\"- El resultado ofrece mayor robustez pese a la presencia de outliers dado que esta medida no se ve afectada por valores extremos\")\n",
        "  print(\"- No se trata de una variable categórica\")\n",
        "  print(\"- Los datos faltantes son inferiores al 10% del total de los datos\")\n",
        "  print(\"Debe tenerse en cuenta que la imputación con la mediana afecta la distribución\")\n",
        "\n",
        "elif imputación['Papel_Hogar'].isnull().sum()/len(imputación) < 0.1 and is_string_dtype(imputación['Papel_Hogar']):\n",
        "  moda_Papel_Hogar = imputación['Papel_Hogar'].mode()\n",
        "  print(\"La moda de la columna 'Papel_Hogar' es \", moda_Papel_Hogar)\n",
        "  imputación['Papel_Hogar'].fillna(moda_Papel_Hogar, inplace=True) #Imputación moda\n",
        "  print(\"En este caso la moda no es tenida en cuenta para datos númericos puesto que la mediana es una medida mas fiable\")\n",
        "  print(\"Se ha empleado la moda para la imputación de los datos faltantes puesto que se cumplen las condiciones:\")\n",
        "  print(\"- Se trata de una variable categórica\")\n",
        "  print(\"- Los datos faltantes son inferiores al 10% del total de los datos\")\n",
        "  print(\"Debe tenerse en cuenta que la imputación con la mediana afecta la distribución\")\n",
        "\n",
        "else:\n",
        "  print(\"No es posible usar uno de los métodos de imputación disponibles, tanto la media, la mediana y la moda no son adecuadas\")\n",
        "  print(\"para esta labor en este archivo de datos en concreto. Podría emplearse Hot Deck o regresión\")"
      ],
      "execution_count": 156,
      "outputs": [
        {
          "output_type": "stream",
          "name": "stdout",
          "text": [
            "No es posible usar uno de los métodos de imputación disponibles, tanto la media, la mediana y la moda no son adecuadas\n",
            "para esta labor en este archivo de datos en concreto. Podría emplearse Hot Deck o regresión\n"
          ]
        }
      ]
    },
    {
      "cell_type": "markdown",
      "metadata": {
        "id": "z0V2_25IpnQl"
      },
      "source": [
        "### VERIFICAR LA IMPUTACIÓN POR PORCENTAJE DE AUSENTES"
      ]
    },
    {
      "cell_type": "code",
      "metadata": {
        "id": "EepxWxNpptE2"
      },
      "source": [
        "imputación.isnull().sum() #Total de nulos por columna\n",
        "imputación.isnull().sum()/len(imputación) #Porcentaje de nulos"
      ],
      "execution_count": null,
      "outputs": []
    }
  ]
}